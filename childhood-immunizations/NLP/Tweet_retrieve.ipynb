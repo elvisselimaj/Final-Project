{
 "cells": [
  {
   "cell_type": "code",
   "execution_count": null,
   "metadata": {},
   "outputs": [],
   "source": [
    "import tweepy\n",
    "import pandas as pd\n",
    "consumer_key = \"cHxh3BJC01iuz6PZZtEIMn4nk\"\n",
    "consumer_secret = \"U3rVXvB3GlaxzgCNiYP1Rvd57SB6ISCZbHhLLAcsN27x1kix9O\"\n",
    "access_token = \"2445674791-sPbwbCEY4b6QvMvgz4q2dNKrJXgX0LirXMHJor9\"\n",
    "access_token_secret = \"jybjiqSXKwoSHWchEOsfwZwXVuZgZb70a2gmLOG5SLNux\""
   ]
  },
  {
   "cell_type": "code",
   "execution_count": null,
   "metadata": {},
   "outputs": [],
   "source": [
    "auth = tweepy.OAuthHandler(consumer_key, consumer_secret)\n",
    "auth.set_access_token(access_token, access_token_secret)\n",
    "api = tweepy.API(auth, wait_on_rate_limit=True)"
   ]
  },
  {
   "cell_type": "code",
   "execution_count": null,
   "metadata": {},
   "outputs": [],
   "source": [
    "search_term = \"#DoctorsSpeakUp\"\n",
    "vaccine_tweets = search_term + \" -filter:retweets\"\n",
    "date_since = \"2020-02-22\""
   ]
  },
  {
   "cell_type": "code",
   "execution_count": null,
   "metadata": {},
   "outputs": [],
   "source": [
    "tweets = tweepy.Cursor(api.search,\n",
    "                       tweet_mode='extended',\n",
    "                       q=vaccine_tweets,\n",
    "                       lang=\"en\",\n",
    "                       since=date_since).items(3000)\n",
    "tweets"
   ]
  },
  {
   "cell_type": "code",
   "execution_count": null,
   "metadata": {
    "scrolled": true
   },
   "outputs": [],
   "source": [
    "users_locs = [[tweet.user.location, tweet.full_text] for tweet in tweets]"
   ]
  },
  {
   "cell_type": "code",
   "execution_count": null,
   "metadata": {},
   "outputs": [],
   "source": [
    "vaccine_tweets = pd.DataFrame(data=users_locs,\n",
    "                             columns=['Location', 'Text'])\n",
    "vaccine_tweets.head()"
   ]
  },
  {
   "cell_type": "code",
   "execution_count": null,
   "metadata": {},
   "outputs": [],
   "source": [
    "vaccine_tweets.to_csv('tweets.csv', index=False)"
   ]
  },
  {
   "cell_type": "code",
   "execution_count": null,
   "metadata": {},
   "outputs": [],
   "source": []
  }
 ],
 "metadata": {
  "kernelspec": {
   "display_name": "Python 3",
   "language": "python",
   "name": "python3"
  },
  "language_info": {
   "codemirror_mode": {
    "name": "ipython",
    "version": 3
   },
   "file_extension": ".py",
   "mimetype": "text/x-python",
   "name": "python",
   "nbconvert_exporter": "python",
   "pygments_lexer": "ipython3",
   "version": "3.7.4"
  }
 },
 "nbformat": 4,
 "nbformat_minor": 2
}
